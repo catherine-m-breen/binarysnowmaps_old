{
 "cells": [
  {
   "attachments": {},
   "cell_type": "markdown",
   "metadata": {},
   "source": [
    "## Conclusion\n",
    "\n",
    "Wildlife cameras can be used as ground truth tools to customize satellite products. Researchers should be aware that deriving their own binary thresholds is an important step for MODIS products. Future studies could employ this approach to create custom thresholds from cameras in their regions of interest."
   ]
  },
  {
   "attachments": {},
   "cell_type": "markdown",
   "metadata": {},
   "source": [
    "## Questions to think about: \n",
    "1. How might you replicate this approach in your region of interest? \n",
    "2. How might having more cameras in satellite pixel (more cameras within 500m2 in this case) affect the results? \n",
    "3. How might this be replicated with other satellites? What might we find at with satellites such as VIIRS that have finer-scale spatial resolutions? "
   ]
  },
  {
   "attachments": {},
   "cell_type": "markdown",
   "metadata": {},
   "source": [
    "## Further reading\n",
    "\n",
    "- Breen, C., Vuyovich, C., Odden, J., Hall, D., Prugh, L., 2023. Evaluating MODIS snow products using an extensive wildlife camera network. Remote Sensing of Environment 295, 113648. https://doi.org/10.1016/j.rse.2023.113648\n",
    "\n",
    "- code in R: https://github.com/catherine-m-breen/MODIS-Snow-Cover-to-Binary-Snow-Covered-Area/blob/main/R_Analysis\n",
    " "
   ]
  },
  {
   "attachments": {},
   "cell_type": "markdown",
   "metadata": {},
   "source": [
    "contact: Catherine Breen | cbreen@uw.edu"
   ]
  }
 ],
 "metadata": {
  "language_info": {
   "name": "python"
  },
  "orig_nbformat": 4
 },
 "nbformat": 4,
 "nbformat_minor": 2
}
